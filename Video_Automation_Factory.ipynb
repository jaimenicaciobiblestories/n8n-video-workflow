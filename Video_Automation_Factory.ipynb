# @title Full YouTube Automation Workflow — Setup + Generate + Thumbnail + Voiceover + Video + Upload
# Run this whole cell after adding your API keys in Colab Secrets (🔑)

print("🚀 Starting full YouTube automation workflow...")

# Install dependencies quietly (run once per session)
!pip install --quiet openai==1.3.3 google-api-python-client google-auth-httplib2 google-auth-oauthlib gtts TTS replicate requests
!apt-get -qq install ffmpeg

import os
import random
import requests
import json
from subprocess import run
from google.colab import drive, output, auth, userdata
from googleapiclient.discovery import build
from googleapiclient.http import MediaFileUpload
import openai
import replicate
from gtts import gTTS
from TTS.api import TTS

# Authenticate Google Account for Drive and YouTube API usage
auth.authenticate_user()
drive.mount('/content/drive')

# Setup Google Drive and YouTube API clients
drive_service = build('drive', 'v3')
youtube_service = build('youtube', 'v3')

# Load your API keys securely from Colab Secrets (Add them on the left panel 🔑)
OPENAI_API_KEY = userdata.get('OPENAI_API_KEY')
REPLICATE_API_KEY = userdata.get('REPLICATE_API_KEY')

if not OPENAI_API_KEY or not REPLICATE_API_KEY:
    raise Exception("Missing API keys! Add OPENAI_API_KEY and REPLICATE_API_KEY to Colab Secrets (🔑)")

os.environ['OPENAI_API_KEY'] = OPENAI_API_KEY
os.environ['REPLICATE_API_TOKEN'] = REPLICATE_API_KEY
client = openai.OpenAI()

# Paths on your Google Drive — make sure these folders exist with assets inside
DRIVE_BASE_PATH = "/content/drive/MyDrive/"
BACKGROUND_VIDEOS_PATH = os.path.join(DRIVE_BASE_PATH, "videos")  # Put some short B-roll clips here
BRANDING_PATH = os.path.join(DRIVE_BASE_PATH, "branding")         # Put your intro.mp4 here
FONTS_PATH = os.path.join(DRIVE_BASE_PATH, "fonts")               # Put NotoColorEmoji.ttf or equivalent here
OUTPUT_PATH = "/content/output_files"
os.makedirs(OUTPUT_PATH, exist_ok=True)

try:
    # 1. Generate script and metadata from OpenAI GPT-4o
    print("\n🧠 Generating YouTube content package...")
    response = client.chat.completions.create(
        model="gpt-4o",
        response_format={"type": "json_object"},
        messages=[
            {"role": "system", "content": "You are a viral content strategist for a money-making YouTube channel. Output ONLY one valid JSON object."},
            {"role": "user", "content": "Generate a YouTube content package about making money online with these keys: 'topic', 'long_script_en' (with emojis), 'short_script_en', 'title_en', 'description_en' (include affiliate links), 'thumbnail_prompt' (dramatic movie poster style)."}
        ]
    )
    content = response.choices[0].message.content
    creative_content = json.loads(content)
    print("✅ Script and metadata generated!")

    # 2. Generate cinematic thumbnail with Replicate SDXL
    print("\n🎨 Generating cinematic movie-poster thumbnail...")
    thumbnail_prompt_text = f"cinematic movie poster, dramatic lighting, 8k photorealistic, starring {creative_content['thumbnail_prompt']}"
    thumbnail_output = replicate.run(
        "stability-ai/sdxl:39ed52f2a78e934b3ba6e2a89f5b1c712de7dfea535525255b1aa35c5565e08b",
        input={"prompt": thumbnail_prompt_text}
    )
    thumbnail_url = thumbnail_output[0]
    thumbnail_path = os.path.join(OUTPUT_PATH, "thumbnail.png")
    with open(thumbnail_path, "wb") as f:
        f.write(requests.get(thumbnail_url).content)
    print("✅ Thumbnail downloaded!")

    # 3. Create English voiceover with Coqui TTS (high quality)
    print("\n🎙️ Creating English voiceover...")
    voiceover_path = os.path.join(OUTPUT_PATH, "voiceover_en.wav")
    tts_en = TTS("tts_models/en/ljspeech/vits")
    tts_en.tts_to_file(text=creative_content['long_script_en'], file_path=voiceover_path)
    print("✅ Voiceover created!")

    # 4. Assemble final video with FFmpeg (background + voice + subtitles)
    print("\n🎬 Assembling video with FFmpeg...")
    # Pick random B-roll video for background
    background_video = os.path.join(BACKGROUND_VIDEOS_PATH, random.choice(os.listdir(BACKGROUND_VIDEOS_PATH)))
    font_file = os.path.join(FONTS_PATH, "NotoColorEmoji.ttf")  # Ensure this font supports emojis

    output_video_path = os.path.join(OUTPUT_PATH, "final_video.mp4")

    # Clean text for drawtext filter (escape single quotes)
    safe_text = creative_content['long_script_en'].replace("'", "`")

    ffmpeg_command = [
        "ffmpeg", "-y",
        "-i", background_video,
        "-i", voiceover_path,
        "-vf", f"drawtext=fontfile='{font_file}':text='{safe_text}':fontsize=36:fontcolor=white:x=(w-text_w)/2:y=h-th-100:box=1:boxcolor=black@0.6:boxborderw=10",
        "-c:v", "libx264", "-c:a", "aac", "-shortest",
        output_video_path
    ]
    run(ffmpeg_command, check=True)
    print("✅ Video assembled!")

    # 5. Upload video and thumbnail to YouTube (private upload)
    print("\n⬆️ Uploading video and thumbnail to YouTube...")
    video_metadata = {
        "snippet": {
            "title": creative_content['title_en'],
            "description": creative_content['description_en'],
            "tags": ["make money online", "ai", "side hustle", "passive income"],
            "categoryId": "27"  # Education
        },
        "status": {
            "privacyStatus": "private"
        }
    }

    video_request = youtube_service.videos().insert(
        part="snippet,status",
        body=video_metadata,
        media_body=MediaFileUpload(output_video_path, mimetype="video/mp4")
    )
    video_response = video_request.execute()
    video_id = video_response.get("id")

    thumbnail_request = youtube_service.thumbnails().set(
        videoId=video_id,
        media_body=MediaFileUpload(thumbnail_path, mimetype="image/png")
    )
    thumbnail_request.execute()

    print(f"✅ Video & thumbnail uploaded! Watch here: https://www.youtube.com/watch?v={video_id}")

except Exception as e:
    print(f"❌ ERROR during workflow: {e}")
    raise

print("\n\n🚀🚀🚀 FULL AUTOMATION WORKFLOW COMPLETE! 🚀🚀🚀")
output.clear()
